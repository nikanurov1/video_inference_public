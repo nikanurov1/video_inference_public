{
 "cells": [
  {
   "cell_type": "code",
   "execution_count": 3,
   "metadata": {},
   "outputs": [
    {
     "name": "stdout",
     "output_type": "stream",
     "text": [
      "Найдено 348 HEIC файлов\n"
     ]
    },
    {
     "name": "stderr",
     "output_type": "stream",
     "text": [
      "Конвертация файлов: 100%|██████████| 348/348 [20:04<00:00,  3.46s/it]"
     ]
    },
    {
     "name": "stdout",
     "output_type": "stream",
     "text": [
      "\n",
      "Конвертация завершена:\n",
      "Успешно: 348\n",
      "С ошибками: 0\n"
     ]
    },
    {
     "name": "stderr",
     "output_type": "stream",
     "text": [
      "\n"
     ]
    }
   ],
   "source": [
    "from pillow_heif import register_heif_opener\n",
    "from PIL import Image\n",
    "import os\n",
    "from pathlib import Path\n",
    "from concurrent.futures import ThreadPoolExecutor\n",
    "from tqdm import tqdm\n",
    "\n",
    "class HeicConverter:\n",
    "    def __init__(self):\n",
    "        # Регистрируем поддержку HEIC один раз при инициализации\n",
    "        register_heif_opener()\n",
    "        \n",
    "    def convert_single_file(self, input_path: Path, output_path: Path) -> bool:\n",
    "        \"\"\"\n",
    "        Конвертирует одиночный HEIC файл в PNG\n",
    "        \"\"\"\n",
    "        try:\n",
    "            with Image.open(input_path) as image:\n",
    "                output_path.parent.mkdir(parents=True, exist_ok=True)\n",
    "                image.save(output_path, format='PNG')\n",
    "            return True\n",
    "        except Exception as e:\n",
    "            print(f'Ошибка при конвертации {input_path}: {str(e)}')\n",
    "            return False\n",
    "\n",
    "    def convert_directory(self, input_dir: str, output_dir: str, max_workers: int = 4):\n",
    "        \"\"\"\n",
    "        Конвертирует все HEIC файлы из входной директории в выходную\n",
    "        \n",
    "        Args:\n",
    "            input_dir (str): Путь к директории с HEIC файлами\n",
    "            output_dir (str): Путь к директории для сохранения PNG файлов\n",
    "            max_workers (int): Количество параллельных потоков\n",
    "        \"\"\"\n",
    "        # Преобразуем пути в объекты Path\n",
    "        input_path = Path(input_dir)\n",
    "        output_path = Path(output_dir)\n",
    "        \n",
    "        # Получаем список всех HEIC файлов\n",
    "        heic_files = list(input_path.glob('**/*.HEIC')) + list(input_path.glob('**/*.heic'))\n",
    "        \n",
    "        if not heic_files:\n",
    "            print(\"HEIC файлы не найдены в указанной директории\")\n",
    "            return\n",
    "        \n",
    "        print(f\"Найдено {len(heic_files)} HEIC файлов\")\n",
    "        \n",
    "        # Создаем список задач для конвертации\n",
    "        conversion_tasks = []\n",
    "        for input_file in heic_files:\n",
    "            # Сохраняем структуру папок при конвертации\n",
    "            relative_path = input_file.relative_to(input_path)\n",
    "            output_file = output_path / relative_path.with_suffix('.png')\n",
    "            conversion_tasks.append((input_file, output_file))\n",
    "        \n",
    "        # Выполняем конвертацию в параллельных потоках\n",
    "        with ThreadPoolExecutor(max_workers=max_workers) as executor:\n",
    "            results = list(tqdm(\n",
    "                executor.map(lambda x: self.convert_single_file(*x), conversion_tasks),\n",
    "                total=len(conversion_tasks),\n",
    "                desc=\"Конвертация файлов\"\n",
    "            ))\n",
    "        \n",
    "        # Выводим статистику\n",
    "        successful = sum(results)\n",
    "        print(f\"\\nКонвертация завершена:\")\n",
    "        print(f\"Успешно: {successful}\")\n",
    "        print(f\"С ошибками: {len(results) - successful}\")\n",
    "\n",
    "def main():\n",
    "    # Пример использования\n",
    "    converter = HeicConverter()\n",
    "    \n",
    "    input_directory = \"/Users/nikitaanurov/Downloads/Командировка в Ухту\"  # Укажите путь к папке с HEIC файлами\n",
    "    output_directory = \"/Users/nikitaanurov/Downloads/Sosnogorsk_Nikita_iPhone\"  # Укажите путь куда сохранять PNG файлы\n",
    "    \n",
    "    converter.convert_directory(input_directory, output_directory)\n",
    "\n",
    "if __name__ == \"__main__\":\n",
    "    main()"
   ]
  },
  {
   "cell_type": "code",
   "execution_count": null,
   "metadata": {},
   "outputs": [],
   "source": []
  }
 ],
 "metadata": {
  "kernelspec": {
   "display_name": "base_ker",
   "language": "python",
   "name": "base_ker"
  },
  "language_info": {
   "codemirror_mode": {
    "name": "ipython",
    "version": 3
   },
   "file_extension": ".py",
   "mimetype": "text/x-python",
   "name": "python",
   "nbconvert_exporter": "python",
   "pygments_lexer": "ipython3",
   "version": "3.10.3"
  }
 },
 "nbformat": 4,
 "nbformat_minor": 2
}
